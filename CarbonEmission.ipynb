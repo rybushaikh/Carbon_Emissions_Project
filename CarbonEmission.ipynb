{
 "cells": [
  {
   "cell_type": "code",
   "execution_count": 45,
   "id": "82718777-b10b-49e9-a4be-85d718ca8b5c",
   "metadata": {},
   "outputs": [],
   "source": [
    "import numpy as np\n",
    "import pandas as pd\n",
    "import matplotlib.pyplot as plt\n",
    "import seaborn as sns"
   ]
  },
  {
   "cell_type": "code",
   "execution_count": 35,
   "id": "dffac300-b3d2-47fc-a6d6-912856f3c32a",
   "metadata": {},
   "outputs": [],
   "source": [
    "df = pd.read_csv(r\"C:\\Users\\Raheb\\Desktop\\editted.csv\")"
   ]
  },
  {
   "cell_type": "code",
   "execution_count": 36,
   "id": "20a30fbd-cfad-48c6-9ee1-208f28ec4a69",
   "metadata": {},
   "outputs": [
    {
     "name": "stdout",
     "output_type": "stream",
     "text": [
      "Country Name       object\n",
      "Country Code       object\n",
      "Indicator Name     object\n",
      "Indicator Code     object\n",
      "1960              float64\n",
      "                   ...   \n",
      "2018              float64\n",
      "2019              float64\n",
      "2020              float64\n",
      "2021              float64\n",
      "2022              float64\n",
      "Length: 67, dtype: object\n"
     ]
    }
   ],
   "source": [
    "print(df.dtypes)"
   ]
  },
  {
   "cell_type": "code",
   "execution_count": 37,
   "id": "b12466f5-0779-4530-a6f9-e63761a9e8f8",
   "metadata": {},
   "outputs": [
    {
     "data": {
      "text/plain": [
       "(266, 67)"
      ]
     },
     "execution_count": 37,
     "metadata": {},
     "output_type": "execute_result"
    }
   ],
   "source": [
    "df.shape"
   ]
  },
  {
   "cell_type": "code",
   "execution_count": 38,
   "id": "88270dd6-9536-4fa4-bec0-2a6747cd9925",
   "metadata": {},
   "outputs": [
    {
     "name": "stdout",
     "output_type": "stream",
     "text": [
      "Missing Values:\n",
      " Country Name        0\n",
      "Country Code        0\n",
      "Indicator Name      0\n",
      "Indicator Code      0\n",
      "1960              266\n",
      "                 ... \n",
      "2018               27\n",
      "2019               27\n",
      "2020               27\n",
      "2021              266\n",
      "2022              266\n",
      "Length: 67, dtype: int64\n"
     ]
    }
   ],
   "source": [
    "missing_values = df.isnull().sum()\n",
    "print(\"Missing Values:\\n\", missing_values)"
   ]
  },
  {
   "cell_type": "code",
   "execution_count": 39,
   "id": "0a8a33c4-6d19-4035-aa1d-c7afaf5aaea8",
   "metadata": {},
   "outputs": [
    {
     "name": "stdout",
     "output_type": "stream",
     "text": [
      "Missing Values in Columns 1960 to 2022:\n",
      " 1960    266\n",
      "1961    266\n",
      "1962    266\n",
      "1963    266\n",
      "1964    266\n",
      "       ... \n",
      "2018     27\n",
      "2019     27\n",
      "2020     27\n",
      "2021    266\n",
      "2022    266\n",
      "Length: 63, dtype: int64\n"
     ]
    }
   ],
   "source": [
    "# Check for missing values in columns from 1960 to 2022\n",
    "missing_values_1960_to_2022 = df.loc[:, '1960':'2022'].isnull().sum()\n",
    "print(\"Missing Values in Columns 1960 to 2022:\\n\", missing_values_1960_to_2022)"
   ]
  },
  {
   "cell_type": "code",
   "execution_count": 40,
   "id": "2d7545d6-d90e-41e1-8a3a-70039a8d4ecb",
   "metadata": {},
   "outputs": [
    {
     "name": "stdout",
     "output_type": "stream",
     "text": [
      "Columns after dropping '1960' to '1989':\n",
      " Index(['Country Name', 'Country Code', 'Indicator Name', 'Indicator Code',\n",
      "       '1990', '1991', '1992', '1993', '1994', '1995', '1996', '1997', '1998',\n",
      "       '1999', '2000', '2001', '2002', '2003', '2004', '2005', '2006', '2007',\n",
      "       '2008', '2009', '2010', '2011', '2012', '2013', '2014', '2015', '2016',\n",
      "       '2017', '2018', '2019', '2020'],\n",
      "      dtype='object')\n"
     ]
    }
   ],
   "source": [
    "# Drop columns from '1960' to '1989' manually\n",
    "columns_to_drop = ['1960', '1961', '1962', '1963', '1964', '1965', '1966', '1967', '1968', '1969',\n",
    "                   '1970', '1971', '1972', '1973', '1974', '1975', '1976', '1977', '1978', '1979',\n",
    "                   '1980', '1981', '1982', '1983', '1984', '1985', '1986', '1987', '1988', '1989', '2021','2022']\n",
    "df.drop(columns=columns_to_drop, inplace=True)\n",
    "\n",
    "# Confirm the columns have been dropped\n",
    "print(\"Columns after dropping '1960' to '1989':\\n\", df.columns)"
   ]
  },
  {
   "cell_type": "code",
   "execution_count": 41,
   "id": "de3a31fb-f690-4ab1-ba8d-4e41062b2916",
   "metadata": {},
   "outputs": [
    {
     "data": {
      "text/plain": [
       "(266, 35)"
      ]
     },
     "execution_count": 41,
     "metadata": {},
     "output_type": "execute_result"
    }
   ],
   "source": [
    "df.shape"
   ]
  },
  {
   "cell_type": "code",
   "execution_count": 42,
   "id": "d11f50d9-e23c-4e58-9cf5-57d715242c8b",
   "metadata": {},
   "outputs": [
    {
     "name": "stdout",
     "output_type": "stream",
     "text": [
      "Missing Values:\n",
      " Country Name       0\n",
      "Country Code       0\n",
      "Indicator Name     0\n",
      "Indicator Code     0\n",
      "1990              28\n",
      "1991              27\n",
      "1992              27\n",
      "1993              27\n",
      "1994              27\n",
      "1995              27\n",
      "1996              27\n",
      "1997              27\n",
      "1998              27\n",
      "1999              27\n",
      "2000              27\n",
      "2001              27\n",
      "2002              27\n",
      "2003              27\n",
      "2004              27\n",
      "2005              27\n",
      "2006              27\n",
      "2007              27\n",
      "2008              27\n",
      "2009              27\n",
      "2010              27\n",
      "2011              27\n",
      "2012              27\n",
      "2013              27\n",
      "2014              27\n",
      "2015              27\n",
      "2016              27\n",
      "2017              27\n",
      "2018              27\n",
      "2019              27\n",
      "2020              27\n",
      "dtype: int64\n"
     ]
    }
   ],
   "source": [
    "missing_values = df.isnull().sum()\n",
    "print(\"Missing Values:\\n\", missing_values)"
   ]
  },
  {
   "cell_type": "code",
   "execution_count": 43,
   "id": "964b88fb-38bf-4ffc-988a-342d588edba5",
   "metadata": {},
   "outputs": [
    {
     "name": "stdout",
     "output_type": "stream",
     "text": [
      "Shape after dropping missing values: (238, 35)\n"
     ]
    }
   ],
   "source": [
    "# Drop rows with missing values\n",
    "df.dropna(inplace=True)\n",
    "\n",
    "# Check the shape of the cleaned dataset\n",
    "print(\"Shape after dropping missing values:\", df.shape)"
   ]
  },
  {
   "cell_type": "code",
   "execution_count": 44,
   "id": "41f6aace-02f0-472e-a061-b44b41cb375a",
   "metadata": {},
   "outputs": [
    {
     "name": "stdout",
     "output_type": "stream",
     "text": [
      "Missing Values:\n",
      " Country Name      0\n",
      "Country Code      0\n",
      "Indicator Name    0\n",
      "Indicator Code    0\n",
      "1990              0\n",
      "1991              0\n",
      "1992              0\n",
      "1993              0\n",
      "1994              0\n",
      "1995              0\n",
      "1996              0\n",
      "1997              0\n",
      "1998              0\n",
      "1999              0\n",
      "2000              0\n",
      "2001              0\n",
      "2002              0\n",
      "2003              0\n",
      "2004              0\n",
      "2005              0\n",
      "2006              0\n",
      "2007              0\n",
      "2008              0\n",
      "2009              0\n",
      "2010              0\n",
      "2011              0\n",
      "2012              0\n",
      "2013              0\n",
      "2014              0\n",
      "2015              0\n",
      "2016              0\n",
      "2017              0\n",
      "2018              0\n",
      "2019              0\n",
      "2020              0\n",
      "dtype: int64\n"
     ]
    }
   ],
   "source": [
    "missing_values = df.isnull().sum()\n",
    "print(\"Missing Values:\\n\", missing_values)"
   ]
  },
  {
   "cell_type": "code",
   "execution_count": 46,
   "id": "a9ec30c9-5dde-4a9e-8a9c-86e80af60f85",
   "metadata": {},
   "outputs": [
    {
     "data": {
      "text/plain": [
       "(238, 35)"
      ]
     },
     "execution_count": 46,
     "metadata": {},
     "output_type": "execute_result"
    }
   ],
   "source": [
    "df.shape"
   ]
  },
  {
   "cell_type": "code",
   "execution_count": 72,
   "id": "81a94a51-7c77-4820-9c8f-ff6331197d58",
   "metadata": {},
   "outputs": [
    {
     "name": "stdout",
     "output_type": "stream",
     "text": [
      "CSV file saved successfully at: clean_carbon_emission_data3.csv\n"
     ]
    }
   ],
   "source": [
    "# Define the file path where you want to save the CSV file\n",
    "output_file_path = \"clean_carbon_emission_data3.csv\"\n",
    "\n",
    "# Save the DataFrame to a CSV file\n",
    "df.to_csv(output_file_path, index=True)\n",
    "\n",
    "print(\"CSV file saved successfully at:\", output_file_path)"
   ]
  },
  {
   "cell_type": "code",
   "execution_count": 50,
   "id": "b29e524d-2b8e-4958-96b9-4870de8b05ca",
   "metadata": {},
   "outputs": [
    {
     "data": {
      "text/plain": [
       "1      Africa Eastern and Southern\n",
       "2                      Afghanistan\n",
       "3       Africa Western and Central\n",
       "4                           Angola\n",
       "5                          Albania\n",
       "                  ...             \n",
       "260                          Samoa\n",
       "262                    Yemen, Rep.\n",
       "263                   South Africa\n",
       "264                         Zambia\n",
       "265                       Zimbabwe\n",
       "Name: Country Name, Length: 238, dtype: object"
      ]
     },
     "execution_count": 50,
     "metadata": {},
     "output_type": "execute_result"
    }
   ],
   "source": [
    "df[\"Country Name\"]"
   ]
  },
  {
   "cell_type": "code",
   "execution_count": 66,
   "id": "939b896b-9a62-488b-a569-be9a99fbcb90",
   "metadata": {},
   "outputs": [],
   "source": [
    "# Manually map countries to continents\n",
    "country_to_continent = {\n",
    "   \"Africa Eastern and Southern\": \"Africa\",\n",
    "    \"Afghanistan\": \"Asia\",\n",
    "    \"Africa Western and Central\": \"Africa\",\n",
    "    \"Angola\": \"Africa\",\n",
    "    \"Albania\": \"Europe\",\n",
    "    \"Andorra\": \"Europe\",\n",
    "    \"Arab World\": \"Asia\",\n",
    "    \"United Arab Emirates\": \"Asia\",\n",
    "    \"Argentina\": \"South America\",\n",
    "    \"Armenia\": \"Asia\",\n",
    "    \"Antigua and Barbuda\": \"North America\",\n",
    "    \"Australia\": \"Oceania\",\n",
    "    \"Austria\": \"Europe\",\n",
    "    \"Azerbaijan\": \"Asia\",\n",
    "    \"Burundi\": \"Africa\",\n",
    "    \"Belgium\": \"Europe\",\n",
    "    \"Benin\": \"Africa\",\n",
    "    \"Burkina Faso\": \"Africa\",\n",
    "    \"Bangladesh\": \"Asia\",\n",
    "    \"Bulgaria\": \"Europe\",\n",
    "    \"Bahrain\": \"Asia\",\n",
    "    \"Bahamas, The\": \"North America\",\n",
    "    \"Bosnia and Herzegovina\": \"Europe\",\n",
    "    \"Belarus\": \"Europe\",\n",
    "    \"Belize\": \"North America\",\n",
    "    \"Bolivia\": \"South America\",\n",
    "    \"Brazil\": \"South America\",\n",
    "    \"Barbados\": \"North America\",\n",
    "    \"Brunei Darussalam\": \"Asia\",\n",
    "    \"Bhutan\": \"Asia\",\n",
    "    \"Botswana\": \"Africa\",\n",
    "    \"Central African Republic\": \"Africa\",\n",
    "    \"Canada\": \"North America\",\n",
    "    \"Central Europe and the Baltics\": \"Europe\",\n",
    "    \"Switzerland\": \"Europe\",\n",
    "    \"Chile\": \"South America\",\n",
    "    \"China\": \"Asia\",\n",
    "    \"Cote d'Ivoire\": \"Africa\",\n",
    "    \"Cameroon\": \"Africa\",\n",
    "    \"Congo, Dem. Rep.\": \"Africa\",\n",
    "    \"Congo, Rep.\": \"Africa\",\n",
    "    \"Colombia\": \"South America\",\n",
    "    \"Comoros\": \"Africa\",\n",
    "    \"Cabo Verde\": \"Africa\",\n",
    "    \"Costa Rica\": \"North America\",\n",
    "    \"Caribbean small states\": \"North America\",\n",
    "    \"Cuba\": \"North America\",\n",
    "    \"Cyprus\": \"Europe\",\n",
    "    \"Czechia\": \"Europe\",\n",
    "    \"Germany\": \"Europe\",\n",
    "    \"Djibouti\": \"Africa\",\n",
    "    \"Dominica\": \"North America\",\n",
    "    \"Denmark\": \"Europe\",\n",
    "    \"Dominican Republic\": \"North America\",\n",
    "    \"Algeria\": \"Africa\",\n",
    "    \"East Asia & Pacific (excluding high income)\": \"Asia\",\n",
    "    \"Early-demographic dividend\": \"Asia\",\n",
    "    \"East Asia & Pacific\": \"Asia\",\n",
    "    \"Europe & Central Asia (excluding high income)\": \"Europe\",\n",
    "    \"Europe & Central Asia\": \"Europe\",\n",
    "    \"Ecuador\": \"South America\",\n",
    "    \"Egypt, Arab Rep.\": \"Africa\",\n",
    "    \"Euro area\": \"Europe\",\n",
    "    \"Eritrea\": \"Africa\",\n",
    "    \"Spain\": \"Europe\",\n",
    "    \"Estonia\": \"Europe\",\n",
    "    \"Ethiopia\": \"Africa\",\n",
    "    \"European Union\": \"Europe\",\n",
    "    \"Fragile and conflict affected situations\": \"Asia\",\n",
    "    \"Finland\": \"Europe\",\n",
    "    \"Fiji\": \"Oceania\",\n",
    "    \"France\": \"Europe\",\n",
    "    \"Micronesia, Fed. Sts.\": \"Oceania\",\n",
    "    \"Gabon\": \"Africa\",\n",
    "    \"United Kingdom\": \"Europe\",\n",
    "    \"Georgia\": \"Europe\",\n",
    "    \"Ghana\": \"Africa\",\n",
    "    \"Guinea\": \"Africa\",\n",
    "    \"Gambia, The\": \"Africa\",\n",
    "    \"Guinea-Bissau\": \"Africa\",\n",
    "    \"Equatorial Guinea\": \"Africa\",\n",
    "    \"Greece\": \"Europe\",\n",
    "    \"Grenada\": \"North America\",\n",
    "    \"Guatemala\": \"North America\",\n",
    "    \"Guyana\": \"South America\",\n",
    "    \"High income\": \"Europe\",\n",
    "    \"Honduras\": \"North America\",\n",
    "    \"Heavily indebted poor countries (HIPC)\": \"Africa\",\n",
    "    \"Croatia\": \"Europe\",\n",
    "    \"Haiti\": \"North America\",\n",
    "    \"Hungary\": \"Europe\",\n",
    "    \"IBRD only\": \"Asia\",\n",
    "    \"IDA & IBRD total\": \"Asia\",\n",
    "    \"IDA total\": \"Asia\",\n",
    "    \"IDA blend\": \"Asia\",\n",
    "    \"Indonesia\": \"Asia\",\n",
    "    \"IDA only\": \"Asia\",\n",
    "    \"India\": \"Asia\",\n",
    "    \"Ireland\": \"Europe\",\n",
    "    \"Iran, Islamic Rep.\": \"Asia\",\n",
    "    \"Iraq\": \"Asia\",\n",
    "    \"Iceland\": \"Europe\",\n",
    "    \"Israel\": \"Asia\",\n",
    "    \"Italy\": \"Europe\",\n",
    "    \"Jamaica\": \"North America\",\n",
    "    \"Jordan\": \"Asia\",\n",
    "    \"Japan\": \"Asia\",\n",
    "    \"Kazakhstan\": \"Asia\",\n",
    "    \"Kenya\": \"Africa\",\n",
    "    \"Kyrgyz Republic\": \"Asia\",\n",
    "    \"Cambodia\": \"Asia\",\n",
    "    \"Kiribati\": \"Oceania\",\n",
    "    \"St. Kitts and Nevis\": \"North America\",\n",
    "    \"Korea, Rep.\": \"Asia\",\n",
    "    \"Kuwait\": \"Asia\",\n",
    "    \"Latin America & Caribbean (excluding high income)\": \"South America\",\n",
    "    \"Lao PDR\": \"Asia\",\n",
    "    \"Lebanon\": \"Asia\",\n",
    "    \"Liberia\": \"Africa\",\n",
    "    \"Libya\": \"Africa\",\n",
    "    \"St. Lucia\": \"North America\",\n",
    "    \"Latin America & Caribbean\": \"South America\",\n",
    "    \"Least developed countries: UN classification\": \"Africa\",\n",
    "    \"Low income\": \"Africa\",\n",
    "    \"Liechtenstein\": \"Europe\",\n",
    "    \"Sri Lanka\": \"Asia\",\n",
    "    \"Lower middle income\": \"Asia\",\n",
    "    \"Low & middle income\": \"Asia\",\n",
    "    \"Lesotho\": \"Africa\",\n",
    "    \"Late-demographic dividend\": \"Asia\",\n",
    "    \"Lithuania\": \"Europe\",\n",
    "    \"Luxembourg\": \"Europe\",\n",
    "    \"Latvia\": \"Europe\",\n",
    "    \"Morocco\": \"Africa\",\n",
    "    \"Moldova\": \"Europe\",\n",
    "    \"Madagascar\": \"Africa\",\n",
    "    \"Maldives\": \"Asia\",\n",
    "    \"Middle East & North Africa\": \"Asia\",\n",
    "    \"Mexico\": \"North America\",\n",
    "    \"Marshall Islands\": \"Oceania\",\n",
    "    \"Middle income\": \"Asia\",\n",
    "    \"North Macedonia\": \"Europe\",\n",
    "    \"Mali\": \"Africa\",\n",
    "    \"Malta\": \"Europe\",\n",
    "    \"Myanmar\": \"Asia\",\n",
    "    \"Middle East & North Africa (excluding high income)\": \"Asia\",\n",
    "    \"Montenegro\": \"Europe\",\n",
    "    \"Mongolia\": \"Asia\",\n",
    "    \"Mozambique\": \"Africa\",\n",
    "    \"Mauritania\": \"Africa\",\n",
    "    \"Mauritius\": \"Africa\",\n",
    "    \"Malawi\": \"Africa\",\n",
    "    \"Malaysia\": \"Asia\",\n",
    "    \"North America\": \"North America\",\n",
    "    \"Niger\": \"Africa\", \"Nigeria\": \"Africa\",\n",
    "    \"Nicaragua\": \"North America\",\n",
    "    \"Netherlands\": \"Europe\",\n",
    "    \"Norway\": \"Europe\",\n",
    "    \"Nepal\": \"Asia\",\n",
    "    \"Nauru\": \"Oceania\",\n",
    "    \"New Zealand\": \"Oceania\",\n",
    "    \"OECD members\": \"Europe\",\n",
    "    \"Oman\": \"Asia\",\n",
    "    \"Other small states\": \"Asia\",\n",
    "    \"Pakistan\": \"Asia\",\n",
    "    \"Panama\": \"North America\",\n",
    "    \"Peru\": \"South America\",\n",
    "    \"Philippines\": \"Asia\",\n",
    "    \"Palau\": \"Oceania\",\n",
    "    \"Papua New Guinea\": \"Oceania\",\n",
    "    \"Poland\": \"Europe\",\n",
    "    \"Pre-demographic dividend\": \"Asia\",\n",
    "    \"Korea, Dem. People's Rep.\": \"Asia\",\n",
    "    \"Portugal\": \"Europe\",\n",
    "    \"Paraguay\": \"South America\",\n",
    "    \"Pacific island small states\": \"Oceania\",\n",
    "    \"Post-demographic dividend\": \"Europe\",\n",
    "    \"Qatar\": \"Asia\",\n",
    "    \"Romania\": \"Europe\",\n",
    "    \"Russian Federation\": \"Europe\",\n",
    "    \"Rwanda\": \"Africa\",\n",
    "    \"South Asia\": \"Asia\",\n",
    "    \"Saudi Arabia\": \"Asia\",\n",
    "    \"Sudan\": \"Africa\",\n",
    "    \"Senegal\": \"Africa\",\n",
    "    \"Singapore\": \"Asia\",\n",
    "    \"Solomon Islands\": \"Oceania\",\n",
    "    \"Sierra Leone\": \"Africa\",\n",
    "    \"El Salvador\": \"North America\",\n",
    "    \"Somalia\": \"Africa\",\n",
    "    \"Serbia\": \"Europe\",\n",
    "    \"Sub-Saharan Africa (excluding high income)\": \"Africa\",\n",
    "    \"South Sudan\": \"Africa\",\n",
    "    \"Sub-Saharan Africa\": \"Africa\",\n",
    "    \"Sao Tome and Principe\": \"Africa\",\n",
    "    \"Suriname\": \"South America\",\n",
    "    \"Slovak Republic\": \"Europe\",\n",
    "    \"Slovenia\": \"Europe\",\n",
    "    \"Sweden\": \"Europe\",\n",
    "    \"Eswatini\": \"Africa\",\n",
    "    \"Seychelles\": \"Africa\",\n",
    "    \"Syrian Arab Republic\": \"Asia\",\n",
    "    \"Chad\": \"Africa\",\n",
    "    \"East Asia & Pacific (IDA & IBRD countries)\": \"Asia\",\n",
    "    \"Europe & Central Asia (IDA & IBRD countries)\": \"Europe\",\n",
    "    \"Togo\": \"Africa\",\n",
    "    \"Thailand\": \"Asia\",\n",
    "    \"Tajikistan\": \"Asia\",\n",
    "    \"Turkmenistan\": \"Asia\",\n",
    "    \"Latin America & the Caribbean (IDA & IBRD countries)\": \"South America\",\n",
    "    \"Timor-Leste\": \"Asia\",\n",
    "    \"Middle East & North Africa (IDA & IBRD countries)\": \"Asia\",\n",
    "    \"Tonga\": \"Oceania\",\n",
    "    \"South Asia (IDA & IBRD)\": \"Asia\",\n",
    "    \"Sub-Saharan Africa (IDA & IBRD countries)\": \"Africa\",\n",
    "    \"Trinidad and Tobago\": \"North America\",\n",
    "    \"Tunisia\": \"Africa\",\n",
    "    \"Turkiye\": \"Europe\",\n",
    "    \"Tuvalu\": \"Oceania\",\n",
    "    \"Tanzania\": \"Africa\",\n",
    "    \"Uganda\": \"Africa\",\n",
    "    \"Ukraine\": \"Europe\",\n",
    "    \"Upper middle income\": \"Asia\",\n",
    "    \"Uruguay\": \"South America\",\n",
    "    \"United States\": \"North America\",\n",
    "    \"Uzbekistan\": \"Asia\",\n",
    "    \"St. Vincent and the Grenadines\": \"North America\",\n",
    "    \"Venezuela, RB\": \"South America\",\n",
    "    \"Viet Nam\": \"Asia\",\n",
    "    \"Vanuatu\": \"Oceania\",\n",
    "    \"World\": \"Unknown\",\n",
    "    \"Samoa\": \"Oceania\",\n",
    "    \"Yemen, Rep.\": \"Asia\",\n",
    "    \"South Africa\": \"Africa\",\n",
    "    \"Zambia\": \"Africa\",\n",
    "    \"Zimbabwe\": \"Africa\"}"
   ]
  },
  {
   "cell_type": "code",
   "execution_count": 68,
   "id": "1d5fc2cf-c8e6-41be-86f0-cf558559e3c0",
   "metadata": {},
   "outputs": [
    {
     "data": {
      "text/plain": [
       "Index(['Country Name', 'Country Code', 'Indicator Name', 'Indicator Code',\n",
       "       '1990', '1991', '1992', '1993', '1994', '1995', '1996', '1997', '1998',\n",
       "       '1999', '2000', '2001', '2002', '2003', '2004', '2005', '2006', '2007',\n",
       "       '2008', '2009', '2010', '2011', '2012', '2013', '2014', '2015', '2016',\n",
       "       '2017', '2018', '2019', '2020', 'Continent'],\n",
       "      dtype='object')"
      ]
     },
     "execution_count": 68,
     "metadata": {},
     "output_type": "execute_result"
    }
   ],
   "source": [
    "df.columns"
   ]
  },
  {
   "cell_type": "code",
   "execution_count": 67,
   "id": "0e26996e-abd7-4000-bae9-8ed540cd69b4",
   "metadata": {},
   "outputs": [
    {
     "name": "stdout",
     "output_type": "stream",
     "text": [
      "                  Country Name Country Code  \\\n",
      "1  Africa Eastern and Southern          AFE   \n",
      "2                  Afghanistan          AFG   \n",
      "3   Africa Western and Central          AFW   \n",
      "4                       Angola          AGO   \n",
      "5                      Albania          ALB   \n",
      "\n",
      "                           Indicator Name  Indicator Code      1990      1991  \\\n",
      "1  CO2 emissions (metric tons per capita)  EN.ATM.CO2E.PC  0.982975  0.942212   \n",
      "2  CO2 emissions (metric tons per capita)  EN.ATM.CO2E.PC  0.191389  0.180674   \n",
      "3  CO2 emissions (metric tons per capita)  EN.ATM.CO2E.PC  0.470111  0.521084   \n",
      "4  CO2 emissions (metric tons per capita)  EN.ATM.CO2E.PC  0.554941  0.545807   \n",
      "5  CO2 emissions (metric tons per capita)  EN.ATM.CO2E.PC  1.844035  1.261054   \n",
      "\n",
      "       1992      1993      1994      1995  ...      2012      2013      2014  \\\n",
      "1  0.907936  0.909550  0.913413  0.933001  ...  0.989585  1.001154  1.013758   \n",
      "2  0.126517  0.109106  0.096638  0.088781  ...  0.335061  0.298088  0.283692   \n",
      "3  0.558013  0.513859  0.462384  0.492656  ...  0.452101  0.481623  0.493505   \n",
      "4  0.544413  0.710961  0.839266  0.914265  ...  0.947583  1.031044  1.091497   \n",
      "5  0.689644  0.644008  0.649938  0.612055  ...  1.565921  1.656390  1.795712   \n",
      "\n",
      "       2015      2016      2017      2018      2019      2020  Continent  \n",
      "1  0.960430  0.941337  0.933874  0.921453  0.915294  0.795420     Africa  \n",
      "2  0.297972  0.268359  0.281196  0.299083  0.297564  0.223479       Asia  \n",
      "3  0.475577  0.479775  0.465166  0.475817  0.490837  0.463150     Africa  \n",
      "4  1.125185  1.012552  0.829723  0.755828  0.753638  0.592743     Africa  \n",
      "5  1.665219  1.590069  1.880557  1.854642  1.749462  1.544550     Europe  \n",
      "\n",
      "[5 rows x 36 columns]\n"
     ]
    }
   ],
   "source": [
    "# Define a function to map countries to continents\n",
    "def map_to_continent(country):\n",
    "    return country_to_continent.get(country, \"Unknown\")\n",
    "\n",
    "# Apply the mapping function to create a new column 'Continent'\n",
    "df['Continent'] = df['Country Name'].apply(map_to_continent)\n",
    "\n",
    "# Display the first few rows to verify the new column\n",
    "print(df.head())"
   ]
  },
  {
   "cell_type": "code",
   "execution_count": 58,
   "id": "f810e7d4-dc3f-4d92-ab48-23c2b5c76e80",
   "metadata": {},
   "outputs": [
    {
     "data": {
      "text/plain": [
       "Index(['Country Name', 'Country Code', 'Indicator Name', 'Indicator Code',\n",
       "       '1990', '1991', '1992', '1993', '1994', '1995', '1996', '1997', '1998',\n",
       "       '1999', '2000', '2001', '2002', '2003', '2004', '2005', '2006', '2007',\n",
       "       '2008', '2009', '2010', '2011', '2012', '2013', '2014', '2015', '2016',\n",
       "       '2017', '2018', '2019', '2020', 'Continent'],\n",
       "      dtype='object')"
      ]
     },
     "execution_count": 58,
     "metadata": {},
     "output_type": "execute_result"
    }
   ],
   "source": [
    "df.columns"
   ]
  },
  {
   "cell_type": "code",
   "execution_count": 71,
   "id": "1572b60d-d597-49d8-bf22-acc3b8c1ef2d",
   "metadata": {},
   "outputs": [
    {
     "data": {
      "text/plain": [
       "(238,)"
      ]
     },
     "execution_count": 71,
     "metadata": {},
     "output_type": "execute_result"
    }
   ],
   "source": [
    "df[\"Continent\"].shape"
   ]
  },
  {
   "cell_type": "code",
   "execution_count": null,
   "id": "fefc17e5-6bd4-49a7-9266-fa06d9c65b03",
   "metadata": {},
   "outputs": [],
   "source": []
  }
 ],
 "metadata": {
  "kernelspec": {
   "display_name": "Python 3 (ipykernel)",
   "language": "python",
   "name": "python3"
  },
  "language_info": {
   "codemirror_mode": {
    "name": "ipython",
    "version": 3
   },
   "file_extension": ".py",
   "mimetype": "text/x-python",
   "name": "python",
   "nbconvert_exporter": "python",
   "pygments_lexer": "ipython3",
   "version": "3.12.0"
  }
 },
 "nbformat": 4,
 "nbformat_minor": 5
}
